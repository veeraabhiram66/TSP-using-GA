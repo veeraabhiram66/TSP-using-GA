{
  "cells": [
    {
      "cell_type": "markdown",
      "metadata": {
        "id": "Vh1n5wMuEs4n"
      },
      "source": [
        "**Modules and other necessary inclusions to the notebook**"
      ]
    },
    {
      "cell_type": "code",
      "execution_count": null,
      "metadata": {
        "id": "lY7CUJmEEhS4"
      },
      "outputs": [],
      "source": [
        "import numpy as np\n",
        "import random\n",
        "import operator\n",
        "import pandas as pd\n",
        "import matplotlib.pyplot as plt"
      ]
    },
    {
      "cell_type": "markdown",
      "metadata": {
        "id": "pZ0mARNdEzkf"
      },
      "source": [
        "**Necessary classes**"
      ]
    },
    {
      "cell_type": "markdown",
      "metadata": {
        "id": "PPeGa-1iEzZC"
      },
      "source": [
        "City class to generate a new city in X and Y co-ordinates and methods related to a city"
      ]
    },
    {
      "cell_type": "code",
      "execution_count": null,
      "metadata": {
        "id": "Gv5wbbpkEx4k"
      },
      "outputs": [],
      "source": [
        "class City:\n",
        "  \n",
        "  # Defining a city as a 2d point\n",
        "  def __init__(self, x, y):\n",
        "    self.x = x\n",
        "    self.y = y\n",
        "  \n",
        "  # Defining a method to return distance between our city and a given city\n",
        "  def distance(self, city):\n",
        "    xCor = abs(self.x - city.x)\n",
        "    yCor = abs(self.y - city.y)\n",
        "    dist = np.sqrt(xCor ** 2 + yCor ** 2)\n",
        "    return dist\n",
        "\n",
        "  # Defining the representationof a city\n",
        "  def __repr__(self):\n",
        "    return \"(\" + str(self.x) + \",\" + str(self.y) + \")\"  "
      ]
    },
    {
      "cell_type": "markdown",
      "metadata": {
        "id": "6KwE3g4OE-Kf"
      },
      "source": [
        "**Necessary Functions**\n"
      ]
    },
    {
      "cell_type": "markdown",
      "metadata": {
        "id": "-vHIO1R5E-CN"
      },
      "source": [
        "Fitness function of a given route"
      ]
    },
    {
      "cell_type": "code",
      "execution_count": null,
      "metadata": {
        "id": "ErSWIh6KE6Oh"
      },
      "outputs": [],
      "source": [
        "# Fitness Function = 1/(Total Distance of the path)\n",
        "def fitness_func(route):\n",
        "  fitness_value = 0\n",
        "  for i in range(len(route)-1):\n",
        "    fitness_value += route[i].distance(route[i+1])\n",
        "  return 1/fitness_value"
      ]
    },
    {
      "cell_type": "markdown",
      "metadata": {
        "id": "zts3Ky6YFVA4"
      },
      "source": [
        "Random Generation of a path using a list of cities"
      ]
    },
    {
      "cell_type": "code",
      "execution_count": null,
      "metadata": {
        "id": "IFlUlBklFJky"
      },
      "outputs": [],
      "source": [
        "def generate_path(citylist):\n",
        "  return random.sample(citylist, len(citylist))"
      ]
    },
    {
      "cell_type": "markdown",
      "metadata": {
        "id": "anHt1SycFXdv"
      },
      "source": [
        "**Plot of all the cities involved**"
      ]
    },
    {
      "cell_type": "code",
      "execution_count": null,
      "metadata": {
        "id": "XH-QXj0UFMxN"
      },
      "outputs": [],
      "source": [
        "def plot_cities(citylist, title, line=False):\n",
        "    X = np.array([c.x for c in citylist])\n",
        "    y = np.array([c.y for c in citylist])\n",
        "    if line:\n",
        "        plt.plot(X, y, '-o')\n",
        "    else:\n",
        "        plt.scatter(X, y)\n",
        "    plt.title(title)"
      ]
    },
    {
      "cell_type": "markdown",
      "metadata": {
        "id": "taxWRtR4Fbl4"
      },
      "source": [
        "# **GENETIC ALGORITHM**"
      ]
    },
    {
      "cell_type": "markdown",
      "metadata": {
        "id": "xQ8RQ0cqGd6d"
      },
      "source": [
        "## 1. Initialisation"
      ]
    },
    {
      "cell_type": "markdown",
      "metadata": {
        "id": "GTXotjn2GFfc"
      },
      "source": [
        "Creating a population"
      ]
    },
    {
      "cell_type": "code",
      "execution_count": null,
      "metadata": {
        "id": "Yvr6_r1vFR2R"
      },
      "outputs": [],
      "source": [
        "#Creating distinct routes to avoid duplicate values in the initial population\n",
        "def starting_population(citylist, size_of_population):\n",
        "  population = []\n",
        "  while len(population) < size_of_population:\n",
        "    new_route = generate_path(citylist)\n",
        "    population.append(new_route)\n",
        "  return population"
      ]
    },
    {
      "cell_type": "markdown",
      "metadata": {
        "id": "h_1zlCXKM4PN"
      },
      "source": [
        "Determining the fitness value of every route in the population and sorting them based on the best fitness values"
      ]
    },
    {
      "cell_type": "code",
      "execution_count": null,
      "metadata": {
        "id": "AeFLoZ4BMqmf"
      },
      "outputs": [],
      "source": [
        "def ordered_routes(population):\n",
        "  #Creating a dictionary to store the route number as a key and the fitness associated with it as the value\n",
        "  fitness_values = {}\n",
        "  for i in range(len(population)):\n",
        "    fitness_values[i] = fitness_func(population[i])\n",
        "  return sorted(fitness_values.items(), key = operator.itemgetter(1), reverse = True)   # Returning the sorted dictionary sorted based on values and not key"
      ]
    },
    {
      "cell_type": "markdown",
      "metadata": {
        "id": "K54RK1OYOKrf"
      },
      "source": [
        "## 2. Selection"
      ]
    },
    {
      "cell_type": "markdown",
      "metadata": {
        "id": "sVJUDMjKOXIx"
      },
      "source": [
        "Parent selection is usually done in 2 ways, Roulette Wheel Selection and Tournament based Selection and we are implementing Elitism to check for Survivor Selection as it is the optimized method"
      ]
    },
    {
      "cell_type": "markdown",
      "metadata": {
        "id": "-yxcn9pwQgta"
      },
      "source": [
        "### (a) Roulette Wheel Selection"
      ]
    },
    {
      "cell_type": "code",
      "execution_count": null,
      "metadata": {
        "id": "vBddD5s5OGrQ"
      },
      "outputs": [],
      "source": [
        "def rw_selection(ranked_population, elite_size):\n",
        "  \n",
        "  selection_results = []\n",
        "  df = pd.DataFrame(np.array(ranked_population), columns = ['Index', 'Fitness'])\n",
        "  df['Cum_Sum'] = df.Fitness.cumsum()\n",
        "  df['Cum_Perc'] = 100*df.Cum_Sum/df.Fitness.sum()\n",
        "\n",
        "  for i in range(0, elite_size):\n",
        "      selection_results.append(ranked_population[i][0])\n",
        "  for i in range(0, len(ranked_population) - elite_size):\n",
        "      pick = 100*random.random()\n",
        "      for i in range(0, len(ranked_population)):\n",
        "          if pick <= df.iat[i,3]:\n",
        "              selection_results.append(ranked_population[i][0])\n",
        "              break\n",
        "  \n",
        "  return selection_results"
      ]
    },
    {
      "cell_type": "markdown",
      "metadata": {
        "id": "_isBIfFnQW90"
      },
      "source": [
        "### (b) Tournament based selection"
      ]
    },
    {
      "cell_type": "code",
      "execution_count": null,
      "metadata": {
        "id": "2u-83OhEQrN1"
      },
      "outputs": [],
      "source": [
        "def tm_selection(ranked_population, elite_size, tournament_size):\n",
        "  \n",
        "  selection_results = []\n",
        "  \n",
        "  for i in range(0, elite_size):\n",
        "    selection_results.append(ranked_population[i][0])\n",
        "  \n",
        "  for i in range(0, len(ranked_population) - elite_size):\n",
        "    competors = random.sample(ranked_population, tournament_size)\n",
        "    winner = competors[0]\n",
        "    for j in range(tournament_size):\n",
        "      if winner[1] < competors[j][1]:\n",
        "        winner = competors[j]\n",
        "    selection_results.append(winner[0])\n",
        "  \n",
        "  return selection_results"
      ]
    },
    {
      "cell_type": "markdown",
      "metadata": {
        "id": "e71X5G5gV_zh"
      },
      "source": [
        "### Defining the mating pool from the members selected based on fitness"
      ]
    },
    {
      "cell_type": "code",
      "execution_count": null,
      "metadata": {
        "id": "TaTYXN1gV-xE"
      },
      "outputs": [],
      "source": [
        "def mating_pool(population, selection_results):\n",
        "    mating_pool = []\n",
        "    for i in range(0, len(selection_results)):\n",
        "        index = selection_results[i]\n",
        "        mating_pool.append(population[index])\n",
        "    return mating_pool"
      ]
    },
    {
      "cell_type": "markdown",
      "metadata": {
        "id": "I7QTMiB9WuM7"
      },
      "source": [
        "## 3.Crossover"
      ]
    },
    {
      "cell_type": "markdown",
      "metadata": {
        "id": "C7_15RaLWzZR"
      },
      "source": [
        "There are 3 popular Crossover techniques, they are the 1-point Crossover, 2-point Crossover and Uniform Crossover but I will be using One Point crossover"
      ]
    },
    {
      "cell_type": "code",
      "execution_count": null,
      "metadata": {
        "id": "2KbZ8ILCWttV"
      },
      "outputs": [],
      "source": [
        "def one_point_breed(parent1, parent2):\n",
        "    child = []\n",
        "    childP1 = []\n",
        "    childP2 = []\n",
        "    \n",
        "    geneA = int(random.random() * len(parent1))\n",
        "    geneB = int(random.random() * len(parent1))\n",
        "    \n",
        "    startGene = min(geneA, geneB)\n",
        "    endGene = max(geneA, geneB)\n",
        "\n",
        "    for i in range(startGene, endGene):\n",
        "        childP1.append(parent1[i])\n",
        "        \n",
        "    childP2 = [item for item in parent2 if item not in childP1]\n",
        "\n",
        "    child = childP1 + childP2\n",
        "    return child\n",
        "\n",
        "def op_breed_population(mating_pool, elite_size):\n",
        "    \n",
        "    children = []\n",
        "    \n",
        "    length = len(mating_pool) - elite_size\n",
        "    pool = random.sample(mating_pool, len(mating_pool))\n",
        "\n",
        "    for i in range(0,elite_size):\n",
        "        children.append(mating_pool[i])\n",
        "    \n",
        "    for i in range(0, length):\n",
        "        child = one_point_breed(pool[i], pool[len(mating_pool)-i-1])\n",
        "        children.append(child)\n",
        "    return children"
      ]
    },
    {
      "cell_type": "markdown",
      "metadata": {
        "id": "M3_8I_IhR9t8"
      },
      "source": [
        "## 4. Mutation"
      ]
    },
    {
      "cell_type": "markdown",
      "metadata": {
        "id": "Tn0TrE0OTaRm"
      },
      "source": [
        "We perform mutation on the individual paths in the population by swapping two random cities in path with a small probability to generate diversity in the sample"
      ]
    },
    {
      "cell_type": "code",
      "execution_count": null,
      "metadata": {
        "id": "CxcJpyrRSAIo"
      },
      "outputs": [],
      "source": [
        "def mutate(population_instance, mutation_rate):\n",
        "    for swapped in range(len(population_instance)):\n",
        "        if(random.random() < mutation_rate):\n",
        "            swapWith = int(random.random() * len(population_instance))\n",
        "            \n",
        "            city1 = population_instance[swapped]\n",
        "            city2 = population_instance[swapWith]\n",
        "            \n",
        "            population_instance[swapped] = city2\n",
        "            population_instance[swapWith] = city1\n",
        "    return population_instance\n",
        "\n",
        "\n",
        "def mutate_population(population, mutation_rate):\n",
        "    mutated_population = []\n",
        "    \n",
        "    for ind in range(len(population)):\n",
        "        mutated_individual = mutate(population[ind], mutation_rate)\n",
        "        mutated_population.append(mutated_individual)\n",
        "    return mutated_population"
      ]
    },
    {
      "cell_type": "markdown",
      "metadata": {
        "id": "kGd2SwuyT4OV"
      },
      "source": [
        "## 5. Repeat"
      ]
    },
    {
      "cell_type": "markdown",
      "metadata": {
        "id": "VIKyt5I1WNz2"
      },
      "source": [
        "This is the part where we use all the above functions to generate a new generation from an existing one"
      ]
    },
    {
      "cell_type": "code",
      "execution_count": null,
      "metadata": {
        "id": "t3tFlPDOTTEX"
      },
      "outputs": [],
      "source": [
        "def rw_next_generation(current_gen, elite_size, mutation_rate):\n",
        "  ranked_population = ordered_routes(current_gen)\n",
        "  rw_sel_results = rw_selection(ranked_population, elite_size)\n",
        "  rw_mating = mating_pool(current_gen, rw_sel_results)\n",
        "  rw_children = op_breed_population(rw_mating, elite_size)\n",
        "  rw_next_gen = mutate_population(rw_children, mutation_rate)\n",
        "  return rw_next_gen\n",
        "\n",
        "def tm_next_generation(current_gen, elite_size, mutation_rate, tournament_size):\n",
        "  ranked_population = ordered_routes(current_gen)\n",
        "  tm_sel_results = tm_selection(ranked_population, elite_size, tournament_size)\n",
        "  tm_mating = mating_pool(current_gen, tm_sel_results)\n",
        "  tm_children = op_breed_population(tm_mating, elite_size)\n",
        "  tm_next_gen = mutate_population(tm_children, mutation_rate)\n",
        "  return tm_next_gen"
      ]
    },
    {
      "cell_type": "markdown",
      "metadata": {
        "id": "bAatkN5XWXQz"
      },
      "source": [
        "## 6. Evolution"
      ]
    },
    {
      "cell_type": "code",
      "execution_count": null,
      "metadata": {
        "id": "E8nRirVfWfGp"
      },
      "outputs": [],
      "source": [
        "def rw_genetic_algo(population, elite_size, mutation_rate, no_of_generation):\n",
        "    \n",
        "    print(\"Initial distance: \" + str(1 / ordered_routes(population)[0][1]))\n",
        "    \n",
        "    for i in range(0, no_of_generation):\n",
        "        population = rw_next_generation(population, elite_size, mutation_rate)\n",
        "    \n",
        "    print(\"Final distance Roulette based: \" + str(1 / ordered_routes(population)[0][1]))\n",
        "    best_index = ordered_routes(population)[0][0]\n",
        "    best_route = population[best_index]\n",
        "    return best_route"
      ]
    },
    {
      "cell_type": "code",
      "execution_count": null,
      "metadata": {
        "id": "vVeqalxXYDZ-"
      },
      "outputs": [],
      "source": [
        "def tm_genetic_algo(population, elite_size, mutation_rate, no_of_generation, tournament_size):\n",
        "\n",
        "    print(\"Initial distance: \" + str(1 / ordered_routes(population)[0][1]))\n",
        "    \n",
        "    for i in range(0, no_of_generation):\n",
        "        population = tm_next_generation(population, elite_size, mutation_rate, tournament_size)\n",
        "    \n",
        "    print(\"Final distance Tournament based: \" + str(1 / ordered_routes(population)[0][1]))\n",
        "    best_index = ordered_routes(population)[0][0]\n",
        "    best_route = population[best_index]\n",
        "    return best_route"
      ]
    },
    {
      "cell_type": "markdown",
      "metadata": {
        "id": "m1fUqQ8hYRW1"
      },
      "source": [
        "# **Main Function**"
      ]
    },
    {
      "cell_type": "code",
      "execution_count": null,
      "metadata": {
        "colab": {
          "base_uri": "https://localhost:8080/"
        },
        "id": "9nDChI33YW2Z",
        "outputId": "d3f02af3-f4f9-4bbb-d4ba-45fb5dfaf1b0"
      },
      "outputs": [
        {
          "name": "stdout",
          "output_type": "stream",
          "text": [
            "Cities :  [(83,77), (77,103), (94,77), (124,101), (106,188), (73,97), (88,18), (67,42), (73,199), (175,111), (150,172), (158,112), (193,93), (189,14), (77,112), (173,119), (131,15), (98,116), (2,114), (73,61), (191,124), (104,44), (37,52), (175,167), (154,92)]\n",
            "Initial distance: 1892.6971575691796\n",
            "Final distance Roulette based: 886.0574895930963\n",
            "Initial distance: 1892.6971575691796\n",
            "Final distance Tournament based: 852.2696012295393\n",
            "Roulette Wheel best route :  [(154,92), (124,101), (77,112), (98,116), (94,77), (73,61), (67,42), (37,52), (2,114), (73,97), (77,103), (83,77), (104,44), (88,18), (131,15), (189,14), (193,93), (173,119), (158,112), (175,111), (191,124), (175,167), (150,172), (106,188), (73,199)]\n",
            "Tournament based best route :  [(175,167), (150,172), (106,188), (73,199), (2,114), (77,112), (77,103), (73,97), (94,77), (104,44), (88,18), (131,15), (189,14), (193,93), (191,124), (173,119), (175,111), (158,112), (154,92), (124,101), (98,116), (83,77), (73,61), (67,42), (37,52)]\n"
          ]
        }
      ],
      "source": [
        "citylist = []\n",
        "\n",
        "for i in range(0,25):\n",
        "    citylist.append(City(x=int(random.random() * 200), y=int(random.random() * 200)))\n",
        "\n",
        "print(\"Cities : \", citylist)\n",
        "\n",
        "population = starting_population(citylist, size_of_population=100)\n",
        "\n",
        "rw_best_route = rw_genetic_algo(population, elite_size=20, mutation_rate=0.01, no_of_generation=500)\n",
        "tm_best_route = tm_genetic_algo(population, elite_size=20, mutation_rate=0.01, no_of_generation=500, tournament_size = 3)\n",
        "\n",
        "print(\"Roulette Wheel best route : \",rw_best_route)\n",
        "print(\"Tournament based best route : \",tm_best_route)"
      ]
    },
    {
      "cell_type": "markdown",
      "metadata": {
        "id": "XJ26NW2mb3Ji"
      },
      "source": [
        "# **Plots**"
      ]
    },
    {
      "cell_type": "code",
      "execution_count": null,
      "metadata": {
        "id": "zwQYGKtQbZ55"
      },
      "outputs": [],
      "source": [
        "def geneticAlgorithmPlot(citylist, size_of_population, elite_size, mutation_rate, no_of_generation, tournament_size):\n",
        "    population = starting_population(citylist, size_of_population)\n",
        "    rw_progress = []\n",
        "    tm_progress = []\n",
        "    rw_progress.append(1 / ordered_routes(population)[0][1])\n",
        "    tm_progress.append(1 / ordered_routes(population)[0][1])\n",
        "    \n",
        "    for i in range(0, no_of_generation):\n",
        "        population = rw_next_generation(population, elite_size, mutation_rate)\n",
        "        rw_progress.append(1 / ordered_routes(population)[0][1])\n",
        "\n",
        "    for i in range(0, no_of_generation):\n",
        "        population = tm_next_generation(population, elite_size, mutation_rate, tournament_size)\n",
        "        tm_progress.append(1 / ordered_routes(population)[0][1])\n",
        "    \n",
        "    plt.plot(rw_progress, label=\"Roulette Wheel\")\n",
        "    plt.plot(tm_progress, label=\"Tournament Method\")\n",
        "    plt.ylabel('Distance')\n",
        "    plt.xlabel('Generation')\n",
        "    plt.legend()\n",
        "    plt.show()"
      ]
    },
    {
      "cell_type": "code",
      "execution_count": null,
      "metadata": {
        "colab": {
          "base_uri": "https://localhost:8080/",
          "height": 452
        },
        "id": "hSHZHjHWiTev",
        "outputId": "333967ee-2f25-4556-8d6b-1e6eb0ea4f8c"
      },
      "outputs": [
        {
          "data": {
            "image/png": "[encoded data removed]",
            "text/plain": [
              "<Figure size 640x480 with 1 Axes>"
            ]
          },
          "metadata": {},
          "output_type": "display_data"
        }
      ],
      "source": [
        "plot_cities(citylist, \"Cities\")"
      ]
    },
    {
      "cell_type": "code",
      "execution_count": 23,
      "metadata": {
        "colab": {
          "base_uri": "https://localhost:8080/",
          "height": 449
        },
        "id": "TMywk1QqcCN1",
        "outputId": "f4348eba-d3d1-4a71-8795-d0f5b157e56d"
      },
      "outputs": [
        {
          "output_type": "display_data",
          "data": {
            "text/plain": [
              "<Figure size 640x480 with 1 Axes>"
            ],
            "image/png": "[encoded data removed]"
          },
          "metadata": {}
        }
      ],
      "source": [
        "geneticAlgorithmPlot(citylist, size_of_population=100, elite_size=20, mutation_rate=0.01, no_of_generation=500, tournament_size = 3)"
      ]
    },
    {
      "cell_type": "markdown",
      "metadata": {
        "id": "h5OnbkYPhjVI"
      },
      "source": [
        "# **From the above observations, we can clearly say tournament based method is a better method as compared to roulette wheel method**"
      ]
    }
  ],
  "metadata": {
    "colab": {
      "provenance": []
    },
    "kernelspec": {
      "display_name": "Python 3",
      "name": "python3"
    },
    "language_info": {
      "name": "python"
    }
  },
  "nbformat": 4,
  "nbformat_minor": 0
}